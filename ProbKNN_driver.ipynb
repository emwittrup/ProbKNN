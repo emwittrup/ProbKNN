{
 "cells": [
  {
   "cell_type": "code",
   "execution_count": 1,
   "metadata": {},
   "outputs": [],
   "source": [
    "import pandas as pd\n",
    "from sklearn.model_selection import train_test_split\n",
    "import numpy as np\n",
    "from scipy import stats\n",
    "from sklearn.metrics import confusion_matrix\n",
    "import matplotlib.pyplot  as plt\n",
    "\n",
    "from ProbKNN_functions import *"
   ]
  },
  {
   "cell_type": "code",
   "execution_count": 6,
   "metadata": {},
   "outputs": [],
   "source": [
    "data = pd.read_csv('Bankrupt/data.csv')\n",
    "Xtrain, Xtest, Ytrain, Ytest = train_test_split(data.iloc[:,1:], data.iloc[:,0], test_size=0.20, random_state=42)\n",
    "#train/test split (80/20)\n",
    "#split_idx = round(len(data)*0.8)\n",
    "#Xtrain = data.iloc[0:split_idx, 1:]\n",
    "#Xtest = data.iloc[split_idx:, 1:]\n",
    "#Ytrain = data.iloc[0:split_idx, 0]\n",
    "#Ytest = data.iloc[split_idx:, 0]"
   ]
  },
  {
   "cell_type": "code",
   "execution_count": 8,
   "metadata": {},
   "outputs": [
    {
     "name": "stdout",
     "output_type": "stream",
     "text": [
      "Accuracy: 0.9633431085043989\n",
      "Specificity: (TNR): 0.9893373952779894\n",
      "Sensitivity: (TPR): 0.29411764705882354\n",
      "Precision: (PPV): 0.5172413793103449\n"
     ]
    }
   ],
   "source": [
    "ypred = probKnn(Xtrain, Ytrain, Xtest, 5, len(Xtrain.columns))\n",
    "getPerformanceMetrics(Ytest, ypred)"
   ]
  },
  {
   "cell_type": "code",
   "execution_count": 7,
   "metadata": {},
   "outputs": [
    {
     "name": "stdout",
     "output_type": "stream",
     "text": [
      "Accuracy: 0.7543988269794721\n",
      "Specificity: (TNR): 0.7677075399847677\n",
      "Sensitivity: (TPR): 0.4117647058823529\n",
      "Precision: (PPV): 0.06441717791411043\n"
     ]
    }
   ],
   "source": [
    "from sklearn.naive_bayes import MultinomialNB\n",
    "gnb = MultinomialNB()\n",
    "y_pred = gnb.fit(Xtrain, Ytrain).predict(Xtest)\n",
    "getPerformanceMetrics(Ytest, y_pred)"
   ]
  },
  {
   "cell_type": "code",
   "execution_count": 9,
   "metadata": {},
   "outputs": [
    {
     "name": "stdout",
     "output_type": "stream",
     "text": [
      "Accuracy: 0.9618768328445748\n",
      "Specificity: (TNR): 0.9984767707539984\n",
      "Sensitivity: (TPR): 0.0196078431372549\n",
      "Precision: (PPV): 0.3333333333333333\n"
     ]
    }
   ],
   "source": [
    "from sklearn.neighbors import KNeighborsClassifier\n",
    "neigh = KNeighborsClassifier(n_neighbors=5)\n",
    "neigh.fit(Xtrain, Ytrain)\n",
    "pred = neigh.predict(Xtest)\n",
    "getPerformanceMetrics(Ytest, pred)"
   ]
  },
  {
   "cell_type": "code",
   "execution_count": null,
   "metadata": {},
   "outputs": [],
   "source": [
    "#over different K\n",
    "tpr_krange = np.zeros((10,1))\n",
    "tnr_krange = np.zeros((10,1))\n",
    "i = 0\n",
    "for k in range(0,50,5):\n",
    "    # take majority vote of top k+1 closest points from training data \n",
    "    ypred = probKNN_bylabel(Xtrain, Ytrain, Xtest, k+1)\n",
    "    tn, fp, fn, tp = confusion_matrix(Ytest, ypred).ravel()\n",
    "    tpr_krange[i] = tp / (tp + fn)\n",
    "    tnr_krange[i] = tn / (tn+fp)\n",
    "    i = i +1\n",
    "\n",
    "kmax = 10\n",
    "plt.figure()\n",
    "plt.title(\"KNN Classifier\")\n",
    "plt.plot(range(1,kmax+1), tpr_krange, linestyle=\"-\", color='green', linewidth=4, marker=None,label=\"tpr\")\n",
    "plt.plot(range(1,kmax+1), tnr_krange, linestyle=\"-\", color='skyblue', linewidth=4, marker=None, label=\"tnr\")\n",
    "plt.xlabel(\"k\")\n",
    "plt.legend()\n",
    "plt.xlim((0,kmax+1))\n",
    "plt.show()"
   ]
  },
  {
   "cell_type": "code",
   "execution_count": null,
   "metadata": {},
   "outputs": [],
   "source": [
    "#Over different d\n",
    "tpr_drange = np.zeros((23,1))\n",
    "tnr_drange = np.zeros((23,1))\n",
    "i = 0\n",
    "for d in range(1,93,4):\n",
    "    # take majority vote of top 5 closest points from training data \n",
    "    ypred = probKNN_bylabel(Xtrain, Ytrain, Xtest, 5, d)\n",
    "    tn, fp, fn, tp = confusion_matrix(Ytest, ypred).ravel()\n",
    "    tpr_drange[i] = tp / (tp + fn)\n",
    "    tnr_drange[i] = tn / (tn+fp)\n",
    "    i = i +1\n"
   ]
  },
  {
   "cell_type": "code",
   "execution_count": null,
   "metadata": {},
   "outputs": [],
   "source": [
    "dmax = 93\n",
    "plt.figure()\n",
    "plt.title(\"KNN Classifier\")\n",
    "plt.plot(range(1,93,4), tpr_drange[:,0], linestyle=\"-\", color='green', linewidth=4, marker=None,label=\"tpr\")\n",
    "plt.plot(range(1,93,4), tnr_drange[:,0], linestyle=\"-\", color='skyblue', linewidth=4, marker=None, label=\"tnr\")\n",
    "plt.xlabel(\"# of Features\")\n",
    "plt.legend()\n",
    "plt.xlim((0,dmax))\n",
    "plt.show()"
   ]
  },
  {
   "cell_type": "code",
   "execution_count": null,
   "metadata": {},
   "outputs": [],
   "source": [
    "#compare to knn with d = all\n",
    "#d = 2 showed even worse results\n",
    "\n",
    "from numpy import linalg as LA\n",
    "k = 5\n",
    "# Calculate the distance matrix between all training samples and test samples. Dimension is ntrain by ntest\n",
    "colnormtrain = (LA.norm(Xtrain,axis=1)**2).reshape((len(Xtrain),1))\n",
    "colnormtest = (LA.norm(Xtest,axis=1)**2).reshape((len(Xtest),1))\n",
    "D = np.repeat(colnormtest.T,len(Xtrain),axis = 0) - 2*np.matmul(Xtrain.to_numpy(),(Xtest.T.to_numpy())) + np.repeat(colnormtrain,len(Xtest),axis = 1)\n",
    "# sort the labels based on distances from training samples to each test sample \n",
    "ind = np.argsort(D, axis=0)\n",
    "\n",
    "# get the labels associated with the indicies found above\n",
    "Y = np.repeat(Ytrain.to_numpy().reshape((len(Xtrain),1)),len(Xtest),axis = 1)\n",
    "Y_allnn = np.take_along_axis(Y,ind,axis = 0)\n",
    "ypred, _ = stats.mode(Y_allnn[:k+1,:],axis=0)\n",
    "getMetrics(Ytest, ypred[0])\n",
    "\n",
    "# k>1\n",
    "tpr_krange = np.zeros((50,1))\n",
    "for k in range(50):\n",
    "    # take majority vote of top k+1 closest points from training data \n",
    "    ypred, _ = stats.mode(Y_allnn[:k+1,:],axis=0)\n",
    "    tn, fp, fn, tp = confusion_matrix(Ytest, ypred[0]).ravel()\n",
    "    tpr_krange[k] = tp / (tp + fn)\n",
    "    \n",
    "\n",
    "kmax = 50\n",
    "plt.figure()\n",
    "plt.title(\"KNN Classifier\")\n",
    "plt.plot(range(1,kmax+1), tpr_krange, linestyle=\"-\", marker=None)\n",
    "plt.xlabel(\"k\")\n",
    "plt.xlim((0,kmax+1))\n",
    "plt.ylabel(\"TPR\")\n",
    "plt.show()"
   ]
  },
  {
   "cell_type": "code",
   "execution_count": null,
   "metadata": {},
   "outputs": [],
   "source": [
    "#compare to knn with k = 5 and varying d\n",
    "\n",
    "from numpy import linalg as LA\n",
    "k = 5\n",
    "tpr_drange = np.zeros((23,1))\n",
    "tnr_drange = np.zeros((23,1))\n",
    "i = 0\n",
    "for d in range(1,93,4):\n",
    "    # Calculate the distance matrix between all training samples and test samples. Dimension is ntrain by ntest\n",
    "    n_train = len(Xtrain)\n",
    "    n_test = len(Xtest)\n",
    "    colnormtrain = (LA.norm(Xtrain.iloc[:, 0:d],axis=1)**2).reshape((n_train,1))\n",
    "    colnormtest = (LA.norm(Xtest.iloc[:, 0:d],axis=1)**2).reshape((n_test,1))\n",
    "    D = np.repeat(colnormtest.T,n_train,axis = 0) - 2*np.matmul(Xtrain.iloc[:,0:d].to_numpy(),(Xtest.iloc[:, 0:d].T.to_numpy())) + np.repeat(colnormtrain,n_test,axis = 1)\n",
    "    # sort the labels based on distances from training samples to each test sample \n",
    "    ind = np.argsort(D, axis=0)\n",
    "\n",
    "    # get the labels associated with the indicies found above\n",
    "    Y = np.repeat(Ytrain.to_numpy().reshape((n_train,1)),n_test,axis = 1)\n",
    "    Y_allnn = np.take_along_axis(Y,ind,axis = 0)\n",
    "    ypred, _ = stats.mode(Y_allnn[:k+1,:],axis=0)\n",
    "    ypred, _ = stats.mode(Y_allnn[:k+1,:],axis=0)\n",
    "    tn, fp, fn, tp = confusion_matrix(Ytest, ypred[0]).ravel()\n",
    "    tpr_drange[i] = tp / (tp + fn)\n",
    "    tnr_drange[i] = tn / (tn+fp)\n",
    "    i = i + 1\n"
   ]
  },
  {
   "cell_type": "code",
   "execution_count": null,
   "metadata": {},
   "outputs": [],
   "source": [
    "kmax = 93\n",
    "plt.figure()\n",
    "plt.title(\"KNN Classifier\")\n",
    "plt.plot(range(1,93,4), tpr_drange, linestyle=\"-\", color='green', linewidth=4, marker=None,label=\"tpr\")\n",
    "plt.plot(range(1,93,4), tnr_drange, linestyle=\"-\", color='skyblue', linewidth=4, marker=None, label=\"tnr\")\n",
    "plt.xlabel(\"# of Features\")\n",
    "plt.legend()\n",
    "plt.xlim((0,93))\n",
    "plt.show()"
   ]
  }
 ],
 "metadata": {
  "kernelspec": {
   "display_name": "Python 3",
   "language": "python",
   "name": "python3"
  },
  "language_info": {
   "codemirror_mode": {
    "name": "ipython",
    "version": 3
   },
   "file_extension": ".py",
   "mimetype": "text/x-python",
   "name": "python",
   "nbconvert_exporter": "python",
   "pygments_lexer": "ipython3",
   "version": "3.7.4"
  }
 },
 "nbformat": 4,
 "nbformat_minor": 2
}
